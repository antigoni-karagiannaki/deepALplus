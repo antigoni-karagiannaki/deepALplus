{
 "cells": [
  {
   "cell_type": "code",
   "execution_count": 25,
   "id": "ccf18d49-53be-4944-aad7-6a57f67e75dc",
   "metadata": {
    "editable": true,
    "slideshow": {
     "slide_type": ""
    },
    "tags": []
   },
   "outputs": [
    {
     "name": "stderr",
     "output_type": "stream",
     "text": [
      "  File \"C:\\Users\\antig\\Documents\\GitHub\\deepALplus\\demo.py\", line 53\n",
      "    sys.stdout = Logger(os.path.abspath('') + '/logfile/' + DATA_NAME+ '_'  + STRATEGY_NAME + '_' + str(NUM_QUERY) + '_' + str(NUM_INIT_LB) +  '_' + str(args_input.quota) + '_normal_log.txt')\n",
      "TabError: inconsistent use of tabs and spaces in indentation\n"
     ]
    }
   ],
   "source": [
    "!python demo.py -a WAAL -s 100 -q 1000 -b 100 -d MNIST --seed 4666 -t 3 -g 0 "
   ]
  },
  {
   "cell_type": "code",
   "execution_count": null,
   "id": "9e750416-8ab9-4016-8a4c-f2e4dda5cd7f",
   "metadata": {},
   "outputs": [],
   "source": []
  }
 ],
 "metadata": {
  "kernelspec": {
   "display_name": "Python 3 (ipykernel)",
   "language": "python",
   "name": "python3"
  },
  "language_info": {
   "codemirror_mode": {
    "name": "ipython",
    "version": 3
   },
   "file_extension": ".py",
   "mimetype": "text/x-python",
   "name": "python",
   "nbconvert_exporter": "python",
   "pygments_lexer": "ipython3",
   "version": "3.11.4"
  }
 },
 "nbformat": 4,
 "nbformat_minor": 5
}
